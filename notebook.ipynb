{
 "cells": [
  {
   "cell_type": "markdown",
   "metadata": {
    "id": "45x7A659lUvE"
   },
   "source": [
    "# Install dependencies"
   ]
  },
  {
   "cell_type": "code",
   "source": [
    "!apt install ffmpeg screen -y\n",
    "!pip install flask requests flask_socketio\n",
    "!curl -sSf https://get.openziti.io/install.bash | sudo bash -s zrok\n",
    "!git clone https://github.com/mateuszjanczak/video-downloader-hls-converter.git temp\n",
    "!cp -r ./temp/** /content\n",
    "!rm -rf temp"
   ],
   "metadata": {
    "id": "l-HVFvea15jX"
   },
   "execution_count": null,
   "outputs": []
  },
  {
   "cell_type": "markdown",
   "metadata": {
    "id": "ersmpMlOlZmh"
   },
   "source": [
    "# Run server"
   ]
  },
  {
   "cell_type": "code",
   "execution_count": null,
   "metadata": {
    "id": "nFxqvxF-BE2u"
   },
   "outputs": [],
   "source": [
    "!screen -dmS server python app.py"
   ]
  },
  {
   "cell_type": "markdown",
   "metadata": {
    "id": "E34AJQ0jlMFr"
   },
   "source": [
    "# Setup ssh tunnel"
   ]
  },
  {
   "cell_type": "code",
   "source": "!zrok enable your_token",
   "metadata": {
    "id": "ScD2n4TDdTtc"
   },
   "execution_count": null,
   "outputs": []
  },
  {
   "cell_type": "code",
   "source": [
    "!zrok share public 4500"
   ],
   "metadata": {
    "id": "niudHgBf1eYF"
   },
   "execution_count": null,
   "outputs": []
  },
  {
   "cell_type": "code",
   "source": [
    "!chmod +x cleanup_all_envs.sh\n",
    "!./cleanup_all_envs.sh your_token"
   ],
   "metadata": {
    "id": "86c31VqF2yns"
   },
   "execution_count": null,
   "outputs": []
  }
 ],
 "metadata": {
  "colab": {
   "provenance": []
  },
  "kernelspec": {
   "display_name": "Python 3",
   "name": "python3"
  },
  "language_info": {
   "name": "python"
  }
 },
 "nbformat": 4,
 "nbformat_minor": 0
}
