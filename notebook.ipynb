{
  "cells": [
    {
      "cell_type": "markdown",
      "source": [
        "# Install dependencies"
      ],
      "metadata": {
        "id": "45x7A659lUvE"
      }
    },
    {
      "cell_type": "code",
      "execution_count": null,
      "metadata": {
        "id": "xFASz6OSATt9"
      },
      "outputs": [],
      "source": [
        "!pip install flask requests flask_socketio\n",
        "!apt install ffmpeg -y"
      ]
    },
    {
      "cell_type": "markdown",
      "source": [
        "# Setup ssh tunnel in terminal\n",
        "\n",
        "ssh -p 443 -R0:localhost:4500 -o StrictHostKeyChecking=no -t a.pinggy.io x:https"
      ],
      "metadata": {
        "id": "E34AJQ0jlMFr"
      }
    },
    {
      "cell_type": "markdown",
      "source": [
        "# Run server"
      ],
      "metadata": {
        "id": "ersmpMlOlZmh"
      }
    },
    {
      "cell_type": "code",
      "execution_count": 4,
      "metadata": {
        "id": "nFxqvxF-BE2u"
      },
      "outputs": [],
      "source": [
        "!python app.py"
      ]
    }
  ],
  "metadata": {
    "colab": {
      "provenance": []
    },
    "kernelspec": {
      "display_name": "Python 3",
      "name": "python3"
    },
    "language_info": {
      "name": "python"
    }
  },
  "nbformat": 4,
  "nbformat_minor": 0
}